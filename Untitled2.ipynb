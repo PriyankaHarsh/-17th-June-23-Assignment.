{
  "nbformat": 4,
  "nbformat_minor": 0,
  "metadata": {
    "colab": {
      "provenance": []
    },
    "kernelspec": {
      "name": "python3",
      "display_name": "Python 3"
    },
    "language_info": {
      "name": "python"
    }
  },
  "cells": [
    {
      "cell_type": "markdown",
      "source": [
        "**17th June '23 Assignment.**"
      ],
      "metadata": {
        "id": "w1nWptXFW_Ly"
      }
    },
    {
      "cell_type": "markdown",
      "source": [
        "Q1. What is the role of try and exception block?"
      ],
      "metadata": {
        "id": "MZ7J5KevXDiO"
      }
    },
    {
      "cell_type": "markdown",
      "source": [
        "ANS1. Role of try and except Block\n",
        "\n",
        "The try and except blocks are used for handling exceptions in Python. The try block lets you test a block of code for errors, while the except block lets you handle the error. This prevents the program from crashing and allows it to continue running or gracefully handle the error."
      ],
      "metadata": {
        "id": "uGT9tHtuXZBW"
      }
    },
    {
      "cell_type": "markdown",
      "source": [
        "Q2. What is the syntax for a basic try-except block?"
      ],
      "metadata": {
        "id": "uRcvAbCEY-MT"
      }
    },
    {
      "cell_type": "markdown",
      "source": [
        "ANS2. The try-except block in Python is used to handle exceptions (errors) that occur during the execution of a program. This allows the program to continue running smoothly without crashing.\n",
        "\n",
        "Basic Syntax:"
      ],
      "metadata": {
        "id": "uKuzXHs5ZFQu"
      }
    },
    {
      "cell_type": "code",
      "source": [
        "try:\n",
        "    result = 10 / 0  # Example risky operation that might raise a ZeroDivisionError\n",
        "except ZeroDivisionError:\n",
        "    print(\"Error: Division by zero is not allowed.\")\n",
        "\n",
        "try:\n",
        "    int(\"abc\")  # Example risky operation that might raise a ValueError\n",
        "except ValueError:\n",
        "    print(\"Error: Invalid conversion from string to integer.\")\n",
        "\n",
        "# Or using a generic Exception block to catch any type of exception:\n",
        "try:\n",
        "    open(\"nonexistentfile.txt\")  # Example risky operation that might raise a FileNotFoundError\n",
        "except Exception as e:\n",
        "    print(f\"Error occurred: {e}\")\n",
        "\n",
        "\n",
        "\n",
        "\n"
      ],
      "metadata": {
        "colab": {
          "base_uri": "https://localhost:8080/"
        },
        "id": "50C9zj9UZNNC",
        "outputId": "d90b4169-fa1d-42f6-a462-efe6910a99ea"
      },
      "execution_count": 8,
      "outputs": [
        {
          "output_type": "stream",
          "name": "stdout",
          "text": [
            "Error: Division by zero is not allowed.\n",
            "Error: Invalid conversion from string to integer.\n",
            "Error occurred: [Errno 2] No such file or directory: 'nonexistentfile.txt'\n"
          ]
        }
      ]
    },
    {
      "cell_type": "markdown",
      "source": [
        "Explanation:\n",
        "\n",
        "* The code demonstrates three separate try-except blocks:\n",
        "\n",
        "1 The first block tries to perform a division by zero (10 / 0) and catches the ZeroDivisionError to handle it with a specific error message.\n",
        "\n",
        "2 The second block attempts to convert the string \"abc\" to an integer (int(\"abc\")) and catches the ValueError to handle it with another specific error message.\n",
        "\n",
        "3 The third block tries to open a non-existent file \"nonexistentfile.txt\" and catches any type of exception (Exception) to handle it by printing the exception message (e)."
      ],
      "metadata": {
        "id": "Y5KTVR4YdVcS"
      }
    },
    {
      "cell_type": "markdown",
      "source": [
        "Q3. What happens if an exception occurs inside a try block and there is no matching\n",
        "except block?"
      ],
      "metadata": {
        "id": "_ZmHXZLxdo0D"
      }
    },
    {
      "cell_type": "markdown",
      "source": [
        "ANS3. Exception without a Matching except Block\n",
        "If an exception occurs inside a try block and there is no matching except block to handle that exception, the program will terminate and an error message will be displayed."
      ],
      "metadata": {
        "id": "kTqyC8RVd5K1"
      }
    },
    {
      "cell_type": "markdown",
      "source": [
        "Q4. What is the difference between using a bare except block and specifying a specific\n",
        "exception type?"
      ],
      "metadata": {
        "id": "X4Dr989ueBQx"
      }
    },
    {
      "cell_type": "markdown",
      "source": [
        "ANS4. Bare except Block vs. Specific Exception Type\n",
        "\n",
        "* Bare except Block: Catches all exceptions, but it's generally considered bad practice because it can catch unexpected errors, making debugging difficult."
      ],
      "metadata": {
        "id": "NN_Ipl1teG6l"
      }
    },
    {
      "cell_type": "code",
      "source": [
        "try:\n",
        "    # code\n",
        "except:\n",
        "    # catches all exceptions\n"
      ],
      "metadata": {
        "id": "0zg8Fy6weVVw"
      },
      "execution_count": null,
      "outputs": []
    },
    {
      "cell_type": "markdown",
      "source": [
        "* Specific Exception Type: Catches only the specified exception, making the code more robust and easier to debug."
      ],
      "metadata": {
        "id": "rhJP6W4aeYOQ"
      }
    },
    {
      "cell_type": "code",
      "source": [
        "try:\n",
        "    # code\n",
        "except ValueError:\n",
        "    # catches only ValueError exceptions\n"
      ],
      "metadata": {
        "id": "KuUKXxfReewC"
      },
      "execution_count": null,
      "outputs": []
    },
    {
      "cell_type": "markdown",
      "source": [
        "Q5. Can you have nested try-except blocks in Python? If yes, then give an example."
      ],
      "metadata": {
        "id": "33MUJwUpegwS"
      }
    },
    {
      "cell_type": "markdown",
      "source": [
        "ANS5  Yes, you can have nested try-except blocks in Python. Here’s an example:"
      ],
      "metadata": {
        "id": "dM0Rm3Aieqy9"
      }
    },
    {
      "cell_type": "code",
      "source": [
        "try:\n",
        "    try:\n",
        "        result = 10 / 0\n",
        "    except ZeroDivisionError:\n",
        "        print(\"Inner except: Division by zero!\")\n",
        "    print(result)\n",
        "except NameError:\n",
        "    print(\"Outer except: NameError occurred!\")\n"
      ],
      "metadata": {
        "colab": {
          "base_uri": "https://localhost:8080/"
        },
        "id": "ClgjJm60ewq1",
        "outputId": "133d0e3b-37e9-40ac-8e1b-3ef9013b317d"
      },
      "execution_count": 11,
      "outputs": [
        {
          "output_type": "stream",
          "name": "stdout",
          "text": [
            "Inner except: Division by zero!\n",
            "Outer except: NameError occurred!\n"
          ]
        }
      ]
    },
    {
      "cell_type": "markdown",
      "source": [
        "Q6. Can we use multiple exception blocks, if yes then give an example."
      ],
      "metadata": {
        "id": "m0PlqBcne0v9"
      }
    },
    {
      "cell_type": "markdown",
      "source": [
        "ANS6  Yes, you can use multiple except blocks to handle different types of exceptions separately. Here’s an example:"
      ],
      "metadata": {
        "id": "XTBynLsDe3_e"
      }
    },
    {
      "cell_type": "code",
      "source": [
        "try:\n",
        "    num = int(input(\"Enter a number: \"))\n",
        "    result = 10 / num\n",
        "except ValueError:\n",
        "    print(\"ValueError: Invalid input. Please enter a number.\")\n",
        "except ZeroDivisionError:\n",
        "    print(\"ZeroDivisionError: Division by zero is not allowed.\")\n"
      ],
      "metadata": {
        "colab": {
          "base_uri": "https://localhost:8080/"
        },
        "id": "h0JpKgb0e6RJ",
        "outputId": "8309775d-31fd-4152-a406-ab823c0d0618"
      },
      "execution_count": 12,
      "outputs": [
        {
          "output_type": "stream",
          "name": "stdout",
          "text": [
            "Enter a number: 0\n",
            "ZeroDivisionError: Division by zero is not allowed.\n"
          ]
        }
      ]
    },
    {
      "cell_type": "markdown",
      "source": [
        "Q7. Write the reason due to which following errors are raised:\n",
        "\n",
        "a. EOFError\n",
        "\n",
        "b. FloatingPointError\n",
        "\n",
        "c. IndexError\n",
        "\n",
        "d. MemoryError\n",
        "\n",
        "e. OverflowError\n",
        "\n",
        "f. TabError\n",
        "\n",
        "g. ValueError"
      ],
      "metadata": {
        "id": "AH1FHaIVfERy"
      }
    },
    {
      "cell_type": "markdown",
      "source": [
        "ANS7.  Reasons for Specific Errors\n",
        "* EOFError: Raised when the input() function hits an end-of-file condition (EOF) without reading any data.\n",
        "* FloatingPointError: Raised when a floating point operation fails.\n",
        "* IndexError: Raised when an index is not found in a sequence (e.g., list, tuple).\n",
        "* MemoryError: Raised when an operation runs out of memory.\n",
        "* OverflowError: Raised when the result of an arithmetic operation is too large to be represented.\n",
        "* TabError: Raised when inconsistent use of tabs and spaces in indentation.\n",
        "* ValueError: Raised when a function receives an argument of the correct type but an inappropriate value."
      ],
      "metadata": {
        "id": "4q9QS6uifWAp"
      }
    },
    {
      "cell_type": "markdown",
      "source": [
        "Q8. Write code for the following given scenario and add try-exception block to it.\n",
        "\n",
        "a. Program to divide two numbers\n",
        "\n",
        "b. Program to convert a string to an integer\n",
        "\n",
        "c. Program to access an element in a list\n",
        "\n",
        "d. Program to handle a specific exception\n",
        "\n",
        "e. Program to handle any exception"
      ],
      "metadata": {
        "id": "nzgsPyJjfoOT"
      }
    },
    {
      "cell_type": "markdown",
      "source": [
        "ANS8. Code with try-except Blocks\n",
        "\n",
        "a. Program to Divide Two Numbers"
      ],
      "metadata": {
        "id": "t79Nvfzcfvoy"
      }
    },
    {
      "cell_type": "code",
      "source": [
        "try:\n",
        "    a = int(input(\"Enter the numerator: \"))\n",
        "    b = int(input(\"Enter the denominator: \"))\n",
        "    result = a / b\n",
        "    print(\"Result:\", result)\n",
        "except ZeroDivisionError:\n",
        "    print(\"Cannot divide by zero.\")\n",
        "except ValueError:\n",
        "    print(\"Invalid input. Please enter integers.\")\n"
      ],
      "metadata": {
        "colab": {
          "base_uri": "https://localhost:8080/"
        },
        "id": "2hOotefPf1CP",
        "outputId": "72be2f54-6f70-4b47-f619-a8f2b09e05f8"
      },
      "execution_count": 14,
      "outputs": [
        {
          "output_type": "stream",
          "name": "stdout",
          "text": [
            "Enter the numerator: 9\n",
            "Enter the denominator: 0\n",
            "Cannot divide by zero.\n"
          ]
        }
      ]
    },
    {
      "cell_type": "markdown",
      "source": [
        "b. Program to Convert a String to an Integer"
      ],
      "metadata": {
        "id": "XBNvU1-MgFW9"
      }
    },
    {
      "cell_type": "code",
      "source": [
        "try:\n",
        "    s = input(\"Enter a string: \")\n",
        "    number = int(s)\n",
        "    print(\"Converted number:\", number)\n",
        "except ValueError:\n",
        "    print(\"Cannot convert the input to an integer.\")\n"
      ],
      "metadata": {
        "colab": {
          "base_uri": "https://localhost:8080/"
        },
        "id": "_5wEfbkOgGiU",
        "outputId": "dfda2a4c-ac77-4c3f-f1d5-c8e60f3ab211"
      },
      "execution_count": 19,
      "outputs": [
        {
          "output_type": "stream",
          "name": "stdout",
          "text": [
            "Enter a string: 123\n",
            "Converted number: 123\n"
          ]
        }
      ]
    },
    {
      "cell_type": "markdown",
      "source": [
        "c. Program to Access an Element in a List"
      ],
      "metadata": {
        "id": "Sh4RbqKuge3c"
      }
    },
    {
      "cell_type": "code",
      "source": [
        "try:\n",
        "    lst = [1, 2, 3]\n",
        "    index = int(input(\"Enter the index: \"))\n",
        "    print(\"Element at index:\", lst[index])\n",
        "except IndexError:\n",
        "    print(\"Index out of range.\")\n",
        "except ValueError:\n",
        "    print(\"Invalid input. Please enter an integer.\")\n"
      ],
      "metadata": {
        "colab": {
          "base_uri": "https://localhost:8080/"
        },
        "id": "wJ8GWXzggf46",
        "outputId": "b42631ce-6470-4829-841d-e2f7b216eb04"
      },
      "execution_count": 18,
      "outputs": [
        {
          "output_type": "stream",
          "name": "stdout",
          "text": [
            "Enter the index: 2\n",
            "Element at index: 3\n"
          ]
        }
      ]
    },
    {
      "cell_type": "markdown",
      "source": [
        "d. Program to Handle a Specific Exception"
      ],
      "metadata": {
        "id": "1r9xYo55h6Np"
      }
    },
    {
      "cell_type": "code",
      "source": [
        "try:\n",
        "    import non_existent_module  # Example input: (module does not exist)\n",
        "except ModuleNotFoundError:\n",
        "    print(\"Error: The specified module was not found.\")\n"
      ],
      "metadata": {
        "colab": {
          "base_uri": "https://localhost:8080/"
        },
        "id": "rLwF3YPuh9Xk",
        "outputId": "9210dd41-ca60-453b-c7ee-b6b7dd464499"
      },
      "execution_count": 20,
      "outputs": [
        {
          "output_type": "stream",
          "name": "stdout",
          "text": [
            "Error: The specified module was not found.\n"
          ]
        }
      ]
    },
    {
      "cell_type": "markdown",
      "source": [
        "e. Program to Handle Any Exception"
      ],
      "metadata": {
        "id": "7Ix3YN7uiG-J"
      }
    },
    {
      "cell_type": "code",
      "source": [
        "try:\n",
        "    x = int(input(\"Enter a number: \"))  # Example input: 10\n",
        "    result = 10 / x\n",
        "    print(f\"Result: {result}\")\n",
        "except Exception as e:\n",
        "    print(f\"An error occurred: {e}\")\n"
      ],
      "metadata": {
        "colab": {
          "base_uri": "https://localhost:8080/"
        },
        "id": "VSAP0ZH0iITk",
        "outputId": "7c577df7-82ce-408a-cf39-b2cae4b3749e"
      },
      "execution_count": 21,
      "outputs": [
        {
          "output_type": "stream",
          "name": "stdout",
          "text": [
            "Enter a number: 10\n",
            "Result: 1.0\n"
          ]
        }
      ]
    }
  ]
}